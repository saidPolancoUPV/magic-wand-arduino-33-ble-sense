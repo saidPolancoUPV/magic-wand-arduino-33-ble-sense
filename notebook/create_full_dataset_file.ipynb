{
 "cells": [
  {
   "cell_type": "code",
   "execution_count": 1,
   "metadata": {
    "collapsed": true
   },
   "outputs": [],
   "source": [
    "DATASET_PATH = \"../dataset\""
   ]
  },
  {
   "cell_type": "code",
   "execution_count": 2,
   "metadata": {
    "collapsed": false
   },
   "outputs": [],
   "source": [
    "labels = ['circle', 'up_down']"
   ]
  },
  {
   "cell_type": "code",
   "execution_count": 43,
   "metadata": {
    "collapsed": false
   },
   "outputs": [],
   "source": [
    "import csv\n",
    "\n",
    "import itertools"
   ]
  },
  {
   "cell_type": "code",
   "execution_count": 49,
   "metadata": {
    "collapsed": false
   },
   "outputs": [],
   "source": [
    "\n",
    "f = open(f\"{DATASET_PATH}/full_dataset.csv\", 'w')\n",
    "w = csv.writer(f)\n",
    "\n",
    "for label in labels:\n",
    "    for count in range(1, 6):\n",
    "        file_to_open = f'{DATASET_PATH}/{label}_{count}.csv'\n",
    "        data = []\n",
    "        M = []\n",
    "\n",
    "        read_obj = open(file_to_open, 'r')\n",
    "        csv_reader = csv.reader(read_obj)\n",
    "        header = next(csv_reader)\n",
    "        if header is not None:\n",
    "            for row in csv_reader:\n",
    "                if len(row) != 0:\n",
    "                    data.append([row[1], row[2], row[3], row[4], row[5], row[6]])\n",
    "                else:\n",
    "                    M.append(list(itertools.chain(*data)))\n",
    "                    data = []\n",
    "        read_obj.close()\n",
    "        for m in M:\n",
    "            w.writerow([*m, label])\n",
    "\n",
    "f.close()"
   ]
  },
  {
   "cell_type": "code",
   "execution_count": 46,
   "metadata": {
    "collapsed": false
   },
   "outputs": [],
   "source": []
  }
 ],
 "metadata": {
  "kernelspec": {
   "display_name": "Python 3",
   "language": "python",
   "name": "python3"
  },
  "language_info": {
   "codemirror_mode": {
    "name": "ipython",
    "version": 2
   },
   "file_extension": ".py",
   "mimetype": "text/x-python",
   "name": "python",
   "nbconvert_exporter": "python",
   "pygments_lexer": "ipython2",
   "version": "2.7.6"
  }
 },
 "nbformat": 4,
 "nbformat_minor": 0
}
