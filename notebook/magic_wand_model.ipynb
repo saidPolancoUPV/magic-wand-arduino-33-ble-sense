{
 "cells": [
  {
   "cell_type": "code",
   "execution_count": 1,
   "id": "3955ca2c-4f10-4410-95e5-5f4efb0eb230",
   "metadata": {},
   "outputs": [],
   "source": [
    "import matplotlib"
   ]
  },
  {
   "cell_type": "code",
   "execution_count": 2,
   "id": "d504908d-d81b-4893-9861-417c7670e351",
   "metadata": {},
   "outputs": [],
   "source": [
    "%matplotlib inline"
   ]
  },
  {
   "cell_type": "code",
   "execution_count": 5,
   "id": "235e60f9-f471-4f45-82af-75717f704763",
   "metadata": {},
   "outputs": [],
   "source": [
    "import matplotlib.pyplot as plt\n",
    "import numpy as np\n",
    "import pandas as pd"
   ]
  },
  {
   "cell_type": "code",
   "execution_count": 6,
   "id": "6f55d148",
   "metadata": {},
   "outputs": [],
   "source": [
    "DATASET = \"../dataset/\"\n",
    "file_to_read = \"circle_1.csv\""
   ]
  },
  {
   "cell_type": "code",
   "execution_count": 5,
   "id": "781d3a27",
   "metadata": {},
   "outputs": [],
   "source": [
    "df = pd.read_csv(DATASET + file_to_read, header=0)"
   ]
  },
  {
   "cell_type": "code",
   "execution_count": 6,
   "id": "e134c2fb",
   "metadata": {},
   "outputs": [
    {
     "data": {
      "text/html": [
       "<div>\n",
       "<style scoped>\n",
       "    .dataframe tbody tr th:only-of-type {\n",
       "        vertical-align: middle;\n",
       "    }\n",
       "\n",
       "    .dataframe tbody tr th {\n",
       "        vertical-align: top;\n",
       "    }\n",
       "\n",
       "    .dataframe thead th {\n",
       "        text-align: right;\n",
       "    }\n",
       "</style>\n",
       "<table border=\"1\" class=\"dataframe\">\n",
       "  <thead>\n",
       "    <tr style=\"text-align: right;\">\n",
       "      <th></th>\n",
       "      <th>count</th>\n",
       "      <th>aX</th>\n",
       "      <th>aY</th>\n",
       "      <th>aZ</th>\n",
       "      <th>gX</th>\n",
       "      <th>gY</th>\n",
       "      <th>gZ</th>\n",
       "    </tr>\n",
       "  </thead>\n",
       "  <tbody>\n",
       "    <tr>\n",
       "      <th>0</th>\n",
       "      <td>1.0</td>\n",
       "      <td>0.552</td>\n",
       "      <td>-0.964</td>\n",
       "      <td>-1.771</td>\n",
       "      <td>24.536</td>\n",
       "      <td>-25.696</td>\n",
       "      <td>65.491</td>\n",
       "    </tr>\n",
       "    <tr>\n",
       "      <th>1</th>\n",
       "      <td>2.0</td>\n",
       "      <td>0.526</td>\n",
       "      <td>-1.029</td>\n",
       "      <td>-1.842</td>\n",
       "      <td>23.682</td>\n",
       "      <td>-40.771</td>\n",
       "      <td>93.628</td>\n",
       "    </tr>\n",
       "    <tr>\n",
       "      <th>2</th>\n",
       "      <td>3.0</td>\n",
       "      <td>2.417</td>\n",
       "      <td>0.355</td>\n",
       "      <td>-1.597</td>\n",
       "      <td>20.142</td>\n",
       "      <td>-65.125</td>\n",
       "      <td>123.718</td>\n",
       "    </tr>\n",
       "    <tr>\n",
       "      <th>3</th>\n",
       "      <td>4.0</td>\n",
       "      <td>0.728</td>\n",
       "      <td>0.739</td>\n",
       "      <td>-1.775</td>\n",
       "      <td>105.408</td>\n",
       "      <td>-76.538</td>\n",
       "      <td>93.628</td>\n",
       "    </tr>\n",
       "    <tr>\n",
       "      <th>4</th>\n",
       "      <td>5.0</td>\n",
       "      <td>0.358</td>\n",
       "      <td>0.513</td>\n",
       "      <td>-2.158</td>\n",
       "      <td>36.316</td>\n",
       "      <td>-73.975</td>\n",
       "      <td>28.320</td>\n",
       "    </tr>\n",
       "  </tbody>\n",
       "</table>\n",
       "</div>"
      ],
      "text/plain": [
       "   count     aX     aY     aZ       gX      gY       gZ\n",
       "0    1.0  0.552 -0.964 -1.771   24.536 -25.696   65.491\n",
       "1    2.0  0.526 -1.029 -1.842   23.682 -40.771   93.628\n",
       "2    3.0  2.417  0.355 -1.597   20.142 -65.125  123.718\n",
       "3    4.0  0.728  0.739 -1.775  105.408 -76.538   93.628\n",
       "4    5.0  0.358  0.513 -2.158   36.316 -73.975   28.320"
      ]
     },
     "execution_count": 6,
     "metadata": {},
     "output_type": "execute_result"
    }
   ],
   "source": [
    "df.head()"
   ]
  },
  {
   "cell_type": "code",
   "execution_count": 7,
   "id": "cd494ebc",
   "metadata": {},
   "outputs": [
    {
     "data": {
      "image/png": "[encoded data removed]",
      "text/plain": [
       "<Figure size 432x288 with 6 Axes>"
      ]
     },
     "metadata": {
      "needs_background": "light"
     },
     "output_type": "display_data"
    }
   ],
   "source": [
    "\n",
    "figure, axis = plt.subplots(2, 3)\n",
    "axis[0, 0].plot(df[\"count\"], df['aX'], 'g.', label='x', linestyle='solid')\n",
    "axis[0, 0].set_title(\"aX\")\n",
    "\n",
    "axis[0, 1].plot(df[\"count\"], df['aY'], 'b.', label='y', linestyle='solid')\n",
    "axis[0, 1].set_title('aY')\n",
    "\n",
    "axis[0, 2].plot(df[\"count\"], df['aZ'], 'r.', label='z', linestyle='solid')\n",
    "axis[0, 2].set_title('aZ')\n",
    "\n",
    "axis[1, 0].plot(df[\"count\"], df['gX'], 'g.', label='x', linestyle='solid')\n",
    "axis[1, 0].set_title(\"gX\")\n",
    "\n",
    "axis[1, 1].plot(df[\"count\"], df['gY'], 'b.', label='y', linestyle='solid')\n",
    "axis[1, 1].set_title('gY')\n",
    "\n",
    "axis[1, 2].plot(df[\"count\"], df['gZ'], 'r.', label='z', linestyle='solid')\n",
    "axis[1, 2].set_title('gZ')\n",
    "\n",
    "plt.show()"
   ]
  },
  {
   "cell_type": "code",
   "execution_count": 8,
   "metadata": {
    "collapsed": false
   },
   "outputs": [
    {
     "data": {
      "text/html": [
       "<div>\n",
       "<style scoped>\n",
       "    .dataframe tbody tr th:only-of-type {\n",
       "        vertical-align: middle;\n",
       "    }\n",
       "\n",
       "    .dataframe tbody tr th {\n",
       "        vertical-align: top;\n",
       "    }\n",
       "\n",
       "    .dataframe thead th {\n",
       "        text-align: right;\n",
       "    }\n",
       "</style>\n",
       "<table border=\"1\" class=\"dataframe\">\n",
       "  <thead>\n",
       "    <tr style=\"text-align: right;\">\n",
       "      <th></th>\n",
       "      <th>count</th>\n",
       "      <th>aX</th>\n",
       "      <th>aY</th>\n",
       "      <th>aZ</th>\n",
       "      <th>gX</th>\n",
       "      <th>gY</th>\n",
       "      <th>gZ</th>\n",
       "    </tr>\n",
       "  </thead>\n",
       "  <tbody>\n",
       "    <tr>\n",
       "      <th>0</th>\n",
       "      <td>1.0</td>\n",
       "      <td>0.196</td>\n",
       "      <td>-0.244</td>\n",
       "      <td>-2.272</td>\n",
       "      <td>-7.690</td>\n",
       "      <td>-30.273</td>\n",
       "      <td>-0.305</td>\n",
       "    </tr>\n",
       "    <tr>\n",
       "      <th>1</th>\n",
       "      <td>2.0</td>\n",
       "      <td>0.188</td>\n",
       "      <td>-0.182</td>\n",
       "      <td>-2.431</td>\n",
       "      <td>-8.972</td>\n",
       "      <td>-46.326</td>\n",
       "      <td>4.028</td>\n",
       "    </tr>\n",
       "    <tr>\n",
       "      <th>2</th>\n",
       "      <td>3.0</td>\n",
       "      <td>0.156</td>\n",
       "      <td>-0.132</td>\n",
       "      <td>-2.488</td>\n",
       "      <td>-12.695</td>\n",
       "      <td>-69.092</td>\n",
       "      <td>6.897</td>\n",
       "    </tr>\n",
       "    <tr>\n",
       "      <th>3</th>\n",
       "      <td>4.0</td>\n",
       "      <td>0.115</td>\n",
       "      <td>-0.133</td>\n",
       "      <td>-2.430</td>\n",
       "      <td>-14.954</td>\n",
       "      <td>-94.666</td>\n",
       "      <td>7.629</td>\n",
       "    </tr>\n",
       "    <tr>\n",
       "      <th>4</th>\n",
       "      <td>5.0</td>\n",
       "      <td>0.100</td>\n",
       "      <td>-0.159</td>\n",
       "      <td>-2.298</td>\n",
       "      <td>-13.855</td>\n",
       "      <td>-116.943</td>\n",
       "      <td>7.812</td>\n",
       "    </tr>\n",
       "  </tbody>\n",
       "</table>\n",
       "</div>"
      ],
      "text/plain": [
       "   count     aX     aY     aZ      gX       gY     gZ\n",
       "0    1.0  0.196 -0.244 -2.272  -7.690  -30.273 -0.305\n",
       "1    2.0  0.188 -0.182 -2.431  -8.972  -46.326  4.028\n",
       "2    3.0  0.156 -0.132 -2.488 -12.695  -69.092  6.897\n",
       "3    4.0  0.115 -0.133 -2.430 -14.954  -94.666  7.629\n",
       "4    5.0  0.100 -0.159 -2.298 -13.855 -116.943  7.812"
      ]
     },
     "execution_count": 8,
     "metadata": {},
     "output_type": "execute_result"
    }
   ],
   "source": [
    "up_down_file = \"up_down_1.csv\"\n",
    "\n",
    "df_up_down = pd.read_csv(DATASET + up_down_file, header=0)\n",
    "df_up_down.head()"
   ]
  },
  {
   "cell_type": "code",
   "execution_count": 10,
   "metadata": {
    "collapsed": false
   },
   "outputs": [
    {
     "data": {
      "image/png": "[encoded data removed]",
      "text/plain": [
       "<Figure size 432x288 with 6 Axes>"
      ]
     },
     "metadata": {
      "needs_background": "light"
     },
     "output_type": "display_data"
    }
   ],
   "source": [
    "figure, axis = plt.subplots(2, 3)\n",
    "axis[0, 0].plot(df_up_down[\"count\"], df_up_down['aX'], 'g.', label='x', linestyle='solid')\n",
    "axis[0, 0].set_title(\"aX\")\n",
    "\n",
    "axis[0, 1].plot(df_up_down[\"count\"], df_up_down['aY'], 'b.', label='y', linestyle='solid')\n",
    "axis[0, 1].set_title('aY')\n",
    "\n",
    "axis[0, 2].plot(df_up_down[\"count\"], df_up_down['aZ'], 'r.', label='z', linestyle='solid')\n",
    "axis[0, 2].set_title('aZ')\n",
    "\n",
    "axis[1, 0].plot(df_up_down[\"count\"], df_up_down['gX'], 'g.', label='x', linestyle='solid')\n",
    "axis[1, 0].set_title(\"gX\")\n",
    "\n",
    "axis[1, 1].plot(df_up_down[\"count\"], df_up_down['gY'], 'b.', label='y', linestyle='solid')\n",
    "axis[1, 1].set_title('gY')\n",
    "\n",
    "axis[1, 2].plot(df_up_down[\"count\"], df_up_down['gZ'], 'r.', label='z', linestyle='solid')\n",
    "axis[1, 2].set_title('gZ')\n",
    "\n",
    "plt.show()"
   ]
  },
  {
   "cell_type": "code",
   "execution_count": 7,
   "metadata": {
    "collapsed": false
   },
   "outputs": [],
   "source": [
    "df_full = pd.read_csv(f'{DATASET}/full_dataset.csv', header=None)"
   ]
  },
  {
   "cell_type": "code",
   "execution_count": 8,
   "metadata": {
    "collapsed": false
   },
   "outputs": [
    {
     "data": {
      "text/plain": [
       "(90, 715)"
      ]
     },
     "execution_count": 8,
     "metadata": {},
     "output_type": "execute_result"
    }
   ],
   "source": [
    "df_full.shape"
   ]
  },
  {
   "cell_type": "code",
   "execution_count": 9,
   "metadata": {
    "collapsed": false
   },
   "outputs": [
    {
     "data": {
      "text/plain": [
       "Int64Index([  0,   1,   2,   3,   4,   5,   6,   7,   8,   9,\n",
       "            ...\n",
       "            705, 706, 707, 708, 709, 710, 711, 712, 713, 714],\n",
       "           dtype='int64', length=715)"
      ]
     },
     "execution_count": 9,
     "metadata": {},
     "output_type": "execute_result"
    }
   ],
   "source": [
    "df_full.columns"
   ]
  },
  {
   "cell_type": "code",
   "execution_count": 12,
   "metadata": {
    "collapsed": false
   },
   "outputs": [
    {
     "data": {
      "text/plain": [
       "(90, 714)"
      ]
     },
     "execution_count": 12,
     "metadata": {},
     "output_type": "execute_result"
    }
   ],
   "source": [
    "df_features = df_full.drop([714], axis=1)\n",
    "df_features.shape"
   ]
  },
  {
   "cell_type": "code",
   "execution_count": 14,
   "metadata": {
    "collapsed": false
   },
   "outputs": [
    {
     "data": {
      "text/plain": [
       "(90,)"
      ]
     },
     "execution_count": 14,
     "metadata": {},
     "output_type": "execute_result"
    }
   ],
   "source": [
    "df_labels = df_full[714]\n",
    "df_labels.shape"
   ]
  },
  {
   "cell_type": "code",
   "execution_count": 15,
   "metadata": {
    "collapsed": false
   },
   "outputs": [],
   "source": [
    "from sklearn import preprocessing\n",
    "\n",
    "X = df_features.values\n",
    "standarizer = preprocessing.StandardScaler()\n",
    "x_scaled = standarizer.fit_transform(X)\n",
    "df_standarized_features = pd.DataFrame(x_scaled)"
   ]
  },
  {
   "cell_type": "code",
   "execution_count": 17,
   "metadata": {
    "collapsed": false
   },
   "outputs": [
    {
     "data": {
      "text/html": [
       "<div>\n",
       "<style scoped>\n",
       "    .dataframe tbody tr th:only-of-type {\n",
       "        vertical-align: middle;\n",
       "    }\n",
       "\n",
       "    .dataframe tbody tr th {\n",
       "        vertical-align: top;\n",
       "    }\n",
       "\n",
       "    .dataframe thead th {\n",
       "        text-align: right;\n",
       "    }\n",
       "</style>\n",
       "<table border=\"1\" class=\"dataframe\">\n",
       "  <thead>\n",
       "    <tr style=\"text-align: right;\">\n",
       "      <th></th>\n",
       "      <th>0</th>\n",
       "      <th>1</th>\n",
       "      <th>2</th>\n",
       "      <th>3</th>\n",
       "      <th>4</th>\n",
       "      <th>5</th>\n",
       "      <th>6</th>\n",
       "      <th>7</th>\n",
       "      <th>8</th>\n",
       "      <th>9</th>\n",
       "      <th>...</th>\n",
       "      <th>704</th>\n",
       "      <th>705</th>\n",
       "      <th>706</th>\n",
       "      <th>707</th>\n",
       "      <th>708</th>\n",
       "      <th>709</th>\n",
       "      <th>710</th>\n",
       "      <th>711</th>\n",
       "      <th>712</th>\n",
       "      <th>713</th>\n",
       "    </tr>\n",
       "  </thead>\n",
       "  <tbody>\n",
       "    <tr>\n",
       "      <th>count</th>\n",
       "      <td>9.000000e+01</td>\n",
       "      <td>9.000000e+01</td>\n",
       "      <td>9.000000e+01</td>\n",
       "      <td>9.000000e+01</td>\n",
       "      <td>9.000000e+01</td>\n",
       "      <td>9.000000e+01</td>\n",
       "      <td>9.000000e+01</td>\n",
       "      <td>9.000000e+01</td>\n",
       "      <td>9.000000e+01</td>\n",
       "      <td>9.000000e+01</td>\n",
       "      <td>...</td>\n",
       "      <td>9.000000e+01</td>\n",
       "      <td>9.000000e+01</td>\n",
       "      <td>90.000000</td>\n",
       "      <td>9.000000e+01</td>\n",
       "      <td>9.000000e+01</td>\n",
       "      <td>9.000000e+01</td>\n",
       "      <td>9.000000e+01</td>\n",
       "      <td>9.000000e+01</td>\n",
       "      <td>90.000000</td>\n",
       "      <td>9.000000e+01</td>\n",
       "    </tr>\n",
       "    <tr>\n",
       "      <th>mean</th>\n",
       "      <td>1.480297e-17</td>\n",
       "      <td>1.927471e-19</td>\n",
       "      <td>-3.956712e-16</td>\n",
       "      <td>5.057683e-17</td>\n",
       "      <td>4.317534e-18</td>\n",
       "      <td>4.749287e-17</td>\n",
       "      <td>1.480297e-17</td>\n",
       "      <td>-6.537980e-17</td>\n",
       "      <td>-1.742433e-17</td>\n",
       "      <td>-3.083953e-17</td>\n",
       "      <td>...</td>\n",
       "      <td>2.602856e-16</td>\n",
       "      <td>1.332268e-16</td>\n",
       "      <td>0.000000</td>\n",
       "      <td>2.282125e-17</td>\n",
       "      <td>3.404684e-16</td>\n",
       "      <td>-2.220446e-17</td>\n",
       "      <td>4.588922e-16</td>\n",
       "      <td>5.612794e-17</td>\n",
       "      <td>0.000000</td>\n",
       "      <td>-1.603655e-17</td>\n",
       "    </tr>\n",
       "    <tr>\n",
       "      <th>std</th>\n",
       "      <td>1.005602e+00</td>\n",
       "      <td>1.005602e+00</td>\n",
       "      <td>1.005602e+00</td>\n",
       "      <td>1.005602e+00</td>\n",
       "      <td>1.005602e+00</td>\n",
       "      <td>1.005602e+00</td>\n",
       "      <td>1.005602e+00</td>\n",
       "      <td>1.005602e+00</td>\n",
       "      <td>1.005602e+00</td>\n",
       "      <td>1.005602e+00</td>\n",
       "      <td>...</td>\n",
       "      <td>1.005602e+00</td>\n",
       "      <td>1.005602e+00</td>\n",
       "      <td>1.005602</td>\n",
       "      <td>1.005602e+00</td>\n",
       "      <td>1.005602e+00</td>\n",
       "      <td>1.005602e+00</td>\n",
       "      <td>1.005602e+00</td>\n",
       "      <td>1.005602e+00</td>\n",
       "      <td>1.005602</td>\n",
       "      <td>1.005602e+00</td>\n",
       "    </tr>\n",
       "    <tr>\n",
       "      <th>min</th>\n",
       "      <td>-2.418947e+00</td>\n",
       "      <td>-2.844134e+00</td>\n",
       "      <td>-1.590373e+00</td>\n",
       "      <td>-2.837564e+00</td>\n",
       "      <td>-3.174857e+00</td>\n",
       "      <td>-2.966823e+00</td>\n",
       "      <td>-2.291823e+00</td>\n",
       "      <td>-3.379015e+00</td>\n",
       "      <td>-1.760658e+00</td>\n",
       "      <td>-2.856750e+00</td>\n",
       "      <td>...</td>\n",
       "      <td>-3.340703e+00</td>\n",
       "      <td>-4.102046e+00</td>\n",
       "      <td>-1.328519</td>\n",
       "      <td>-4.630156e+00</td>\n",
       "      <td>-1.743155e+00</td>\n",
       "      <td>-2.769522e+00</td>\n",
       "      <td>-3.774056e+00</td>\n",
       "      <td>-4.423359e+00</td>\n",
       "      <td>-1.562177</td>\n",
       "      <td>-4.526483e+00</td>\n",
       "    </tr>\n",
       "    <tr>\n",
       "      <th>25%</th>\n",
       "      <td>-9.360458e-01</td>\n",
       "      <td>-3.681986e-01</td>\n",
       "      <td>-7.185504e-01</td>\n",
       "      <td>-8.603884e-01</td>\n",
       "      <td>-5.951065e-01</td>\n",
       "      <td>-6.788094e-01</td>\n",
       "      <td>-9.541087e-01</td>\n",
       "      <td>-2.804048e-01</td>\n",
       "      <td>-7.082366e-01</td>\n",
       "      <td>-9.119917e-01</td>\n",
       "      <td>...</td>\n",
       "      <td>-1.804149e-01</td>\n",
       "      <td>-4.349202e-01</td>\n",
       "      <td>-0.562753</td>\n",
       "      <td>-1.499024e-01</td>\n",
       "      <td>-8.988614e-01</td>\n",
       "      <td>-4.486567e-01</td>\n",
       "      <td>-2.227928e-01</td>\n",
       "      <td>-4.945221e-01</td>\n",
       "      <td>-0.598157</td>\n",
       "      <td>-1.618125e-01</td>\n",
       "    </tr>\n",
       "    <tr>\n",
       "      <th>50%</th>\n",
       "      <td>6.532831e-02</td>\n",
       "      <td>-1.229148e-01</td>\n",
       "      <td>-1.875911e-01</td>\n",
       "      <td>5.070921e-01</td>\n",
       "      <td>5.361491e-02</td>\n",
       "      <td>3.927470e-01</td>\n",
       "      <td>1.123259e-01</td>\n",
       "      <td>-8.222378e-02</td>\n",
       "      <td>-2.084245e-01</td>\n",
       "      <td>5.188768e-01</td>\n",
       "      <td>...</td>\n",
       "      <td>2.399189e-01</td>\n",
       "      <td>8.251936e-02</td>\n",
       "      <td>-0.233764</td>\n",
       "      <td>9.460325e-02</td>\n",
       "      <td>1.626779e-01</td>\n",
       "      <td>1.600201e-01</td>\n",
       "      <td>1.765289e-01</td>\n",
       "      <td>1.217377e-01</td>\n",
       "      <td>-0.173355</td>\n",
       "      <td>5.472198e-02</td>\n",
       "    </tr>\n",
       "    <tr>\n",
       "      <th>75%</th>\n",
       "      <td>9.314988e-01</td>\n",
       "      <td>5.755389e-01</td>\n",
       "      <td>5.734506e-01</td>\n",
       "      <td>5.962774e-01</td>\n",
       "      <td>6.114814e-01</td>\n",
       "      <td>4.832206e-01</td>\n",
       "      <td>9.559234e-01</td>\n",
       "      <td>4.870710e-01</td>\n",
       "      <td>5.952640e-01</td>\n",
       "      <td>6.085816e-01</td>\n",
       "      <td>...</td>\n",
       "      <td>6.317116e-01</td>\n",
       "      <td>5.238021e-01</td>\n",
       "      <td>0.117768</td>\n",
       "      <td>4.083802e-01</td>\n",
       "      <td>8.884746e-01</td>\n",
       "      <td>3.543110e-01</td>\n",
       "      <td>6.014300e-01</td>\n",
       "      <td>5.822957e-01</td>\n",
       "      <td>0.174368</td>\n",
       "      <td>4.135157e-01</td>\n",
       "    </tr>\n",
       "    <tr>\n",
       "      <th>max</th>\n",
       "      <td>1.592333e+00</td>\n",
       "      <td>1.889952e+00</td>\n",
       "      <td>3.396712e+00</td>\n",
       "      <td>1.616904e+00</td>\n",
       "      <td>3.425889e+00</td>\n",
       "      <td>2.246039e+00</td>\n",
       "      <td>1.500559e+00</td>\n",
       "      <td>1.770232e+00</td>\n",
       "      <td>3.443958e+00</td>\n",
       "      <td>1.560906e+00</td>\n",
       "      <td>...</td>\n",
       "      <td>1.282970e+00</td>\n",
       "      <td>3.441637e+00</td>\n",
       "      <td>4.227812</td>\n",
       "      <td>1.951252e+00</td>\n",
       "      <td>1.699853e+00</td>\n",
       "      <td>3.484215e+00</td>\n",
       "      <td>1.387284e+00</td>\n",
       "      <td>3.149546e+00</td>\n",
       "      <td>4.283968</td>\n",
       "      <td>2.058324e+00</td>\n",
       "    </tr>\n",
       "  </tbody>\n",
       "</table>\n",
       "<p>8 rows × 714 columns</p>\n",
       "</div>"
      ],
      "text/plain": [
       "                0             1             2             3             4    \\\n",
       "count  9.000000e+01  9.000000e+01  9.000000e+01  9.000000e+01  9.000000e+01   \n",
       "mean   1.480297e-17  1.927471e-19 -3.956712e-16  5.057683e-17  4.317534e-18   \n",
       "std    1.005602e+00  1.005602e+00  1.005602e+00  1.005602e+00  1.005602e+00   \n",
       "min   -2.418947e+00 -2.844134e+00 -1.590373e+00 -2.837564e+00 -3.174857e+00   \n",
       "25%   -9.360458e-01 -3.681986e-01 -7.185504e-01 -8.603884e-01 -5.951065e-01   \n",
       "50%    6.532831e-02 -1.229148e-01 -1.875911e-01  5.070921e-01  5.361491e-02   \n",
       "75%    9.314988e-01  5.755389e-01  5.734506e-01  5.962774e-01  6.114814e-01   \n",
       "max    1.592333e+00  1.889952e+00  3.396712e+00  1.616904e+00  3.425889e+00   \n",
       "\n",
       "                5             6             7             8             9    \\\n",
       "count  9.000000e+01  9.000000e+01  9.000000e+01  9.000000e+01  9.000000e+01   \n",
       "mean   4.749287e-17  1.480297e-17 -6.537980e-17 -1.742433e-17 -3.083953e-17   \n",
       "std    1.005602e+00  1.005602e+00  1.005602e+00  1.005602e+00  1.005602e+00   \n",
       "min   -2.966823e+00 -2.291823e+00 -3.379015e+00 -1.760658e+00 -2.856750e+00   \n",
       "25%   -6.788094e-01 -9.541087e-01 -2.804048e-01 -7.082366e-01 -9.119917e-01   \n",
       "50%    3.927470e-01  1.123259e-01 -8.222378e-02 -2.084245e-01  5.188768e-01   \n",
       "75%    4.832206e-01  9.559234e-01  4.870710e-01  5.952640e-01  6.085816e-01   \n",
       "max    2.246039e+00  1.500559e+00  1.770232e+00  3.443958e+00  1.560906e+00   \n",
       "\n",
       "       ...           704           705        706           707           708  \\\n",
       "count  ...  9.000000e+01  9.000000e+01  90.000000  9.000000e+01  9.000000e+01   \n",
       "mean   ...  2.602856e-16  1.332268e-16   0.000000  2.282125e-17  3.404684e-16   \n",
       "std    ...  1.005602e+00  1.005602e+00   1.005602  1.005602e+00  1.005602e+00   \n",
       "min    ... -3.340703e+00 -4.102046e+00  -1.328519 -4.630156e+00 -1.743155e+00   \n",
       "25%    ... -1.804149e-01 -4.349202e-01  -0.562753 -1.499024e-01 -8.988614e-01   \n",
       "50%    ...  2.399189e-01  8.251936e-02  -0.233764  9.460325e-02  1.626779e-01   \n",
       "75%    ...  6.317116e-01  5.238021e-01   0.117768  4.083802e-01  8.884746e-01   \n",
       "max    ...  1.282970e+00  3.441637e+00   4.227812  1.951252e+00  1.699853e+00   \n",
       "\n",
       "                709           710           711        712           713  \n",
       "count  9.000000e+01  9.000000e+01  9.000000e+01  90.000000  9.000000e+01  \n",
       "mean  -2.220446e-17  4.588922e-16  5.612794e-17   0.000000 -1.603655e-17  \n",
       "std    1.005602e+00  1.005602e+00  1.005602e+00   1.005602  1.005602e+00  \n",
       "min   -2.769522e+00 -3.774056e+00 -4.423359e+00  -1.562177 -4.526483e+00  \n",
       "25%   -4.486567e-01 -2.227928e-01 -4.945221e-01  -0.598157 -1.618125e-01  \n",
       "50%    1.600201e-01  1.765289e-01  1.217377e-01  -0.173355  5.472198e-02  \n",
       "75%    3.543110e-01  6.014300e-01  5.822957e-01   0.174368  4.135157e-01  \n",
       "max    3.484215e+00  1.387284e+00  3.149546e+00   4.283968  2.058324e+00  \n",
       "\n",
       "[8 rows x 714 columns]"
      ]
     },
     "execution_count": 17,
     "metadata": {},
     "output_type": "execute_result"
    }
   ],
   "source": [
    "df_standarized_features.describe()"
   ]
  },
  {
   "cell_type": "code",
   "execution_count": 18,
   "metadata": {
    "collapsed": false
   },
   "outputs": [],
   "source": [
    "df_standarized_features.to_csv(f'{DATASET}/standarized_features.csv', index=False, header=False)"
   ]
  },
  {
   "cell_type": "code",
   "execution_count": 19,
   "metadata": {
    "collapsed": false
   },
   "outputs": [],
   "source": [
    "import tensorflow as tf\n",
    "from tensorflow.keras import Sequential\n",
    "from tensorflow.keras.layers import Dense, Input"
   ]
  },
  {
   "cell_type": "code",
   "execution_count": null,
   "metadata": {
    "collapsed": false
   },
   "outputs": [],
   "source": [
    "model = Sequential([\n",
    "    Input(shape=(714,)),\n",
    "    Dense(units=50, activation=\"relu\"),\n",
    "    Dense(units=2, activation=\"softmax\")\n",
    "])"
   ]
  }
 ],
 "metadata": {
  "kernelspec": {
   "display_name": "Python 3.9.9 ('get_serial_data')",
   "language": "python",
   "name": "python3"
  },
  "language_info": {
   "codemirror_mode": {
    "name": "ipython",
    "version": 3
   },
   "file_extension": ".py",
   "mimetype": "text/x-python",
   "name": "python",
   "nbconvert_exporter": "python",
   "pygments_lexer": "ipython3",
   "version": "3.9.9"
  },
  "vscode": {
   "interpreter": {
    "hash": "8eb6c5a3f3da11fc32e3c6600fe41da15b450fba631633d96d9d9a9544c371e9"
   }
  }
 },
 "nbformat": 4,
 "nbformat_minor": 5
}
